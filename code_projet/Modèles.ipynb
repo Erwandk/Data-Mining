{
 "cells": [
  {
   "cell_type": "markdown",
   "metadata": {},
   "source": [
    "# Modèles\n",
    "Ce script a pour but de développer les modèles de prédiction de churn des donateurs réguliers de l'ONG.\n",
    "On dispose des données traitées dans le script Feat_Eng_2.\n",
    "\n",
    "#### Importation des libraires\n",
    "On charge cette fois des librairies de machine learning en supplément"
   ]
  },
  {
   "cell_type": "code",
   "execution_count": 7,
   "metadata": {},
   "outputs": [],
   "source": [
    "import pandas as pd\n",
    "import matplotlib.pyplot as plt\n",
    "import seaborn as sns\n",
    "import numpy as np\n",
    "import os\n",
    "plt.style.use('ggplot')\n",
    "\n",
    "# preprocessing\n",
    "from sklearn.preprocessing import OneHotEncoder\n",
    "from sklearn.preprocessing import StandardScaler\n",
    "# modeles\n",
    "from sklearn.linear_model import LogisticRegression\n",
    "from sklearn.svm import SVC\n",
    "from sklearn.ensemble import RandomForestClassifier\n",
    "from xgboost import XGBClassifier\n",
    "from sklearn.ensemble import VotingClassifier\n",
    "# selection de modeles\n",
    "from sklearn.model_selection import train_test_split\n",
    "from sklearn.model_selection import KFold, cross_val_score\n",
    "from sklearn.model_selection import GridSearchCV\n",
    "# métriques d'évaluation\n",
    "from sklearn.metrics import roc_auc_score\n",
    "from sklearn.metrics import precision_score\n",
    "from sklearn.metrics import recall_score"
   ]
  },
  {
   "cell_type": "markdown",
   "metadata": {},
   "source": [
    "#### Chargement des données"
   ]
  },
  {
   "cell_type": "code",
   "execution_count": 2,
   "metadata": {},
   "outputs": [],
   "source": [
    "# Chemin vers le répertoire contenant les données\n",
    "PATH_DATA = \"../data\""
   ]
  },
  {
   "cell_type": "code",
   "execution_count": 3,
   "metadata": {},
   "outputs": [
    {
     "data": {
      "text/html": [
       "<div>\n",
       "<style scoped>\n",
       "    .dataframe tbody tr th:only-of-type {\n",
       "        vertical-align: middle;\n",
       "    }\n",
       "\n",
       "    .dataframe tbody tr th {\n",
       "        vertical-align: top;\n",
       "    }\n",
       "\n",
       "    .dataframe thead th {\n",
       "        text-align: right;\n",
       "    }\n",
       "</style>\n",
       "<table border=\"1\" class=\"dataframe\">\n",
       "  <thead>\n",
       "    <tr style=\"text-align: right;\">\n",
       "      <th></th>\n",
       "      <th>CHURN</th>\n",
       "      <th>MEAN_PA</th>\n",
       "      <th>STD_PA</th>\n",
       "      <th>MEAN_OCC</th>\n",
       "      <th>STD_OCC</th>\n",
       "      <th>MEAN_EVENT</th>\n",
       "      <th>STD_EVENT</th>\n",
       "      <th>TYPE_CONTACT</th>\n",
       "      <th>TRANCHE_AGE</th>\n",
       "      <th>ADRESSE_POSTALE</th>\n",
       "      <th>...</th>\n",
       "      <th>TELEPHONE</th>\n",
       "      <th>OPTIN</th>\n",
       "      <th>STOP_TEL</th>\n",
       "      <th>STOP_MAILING</th>\n",
       "      <th>STOP_GENERAL</th>\n",
       "      <th>CANAL_ACQUISITION_AGG</th>\n",
       "      <th>RATIO_CLICK</th>\n",
       "      <th>RATIO_OPEN</th>\n",
       "      <th>MEAN_3LAST</th>\n",
       "      <th>NB_3LAST</th>\n",
       "    </tr>\n",
       "  </thead>\n",
       "  <tbody>\n",
       "    <tr>\n",
       "      <th>0</th>\n",
       "      <td>0</td>\n",
       "      <td>9.000000</td>\n",
       "      <td>0.000000</td>\n",
       "      <td>0.0</td>\n",
       "      <td>0.0</td>\n",
       "      <td>0.0</td>\n",
       "      <td>0.0</td>\n",
       "      <td>PHYSIQUE</td>\n",
       "      <td>25-45</td>\n",
       "      <td>1.0</td>\n",
       "      <td>...</td>\n",
       "      <td>1.0</td>\n",
       "      <td>1.0</td>\n",
       "      <td>0.0</td>\n",
       "      <td>0.0</td>\n",
       "      <td>0.0</td>\n",
       "      <td>Street</td>\n",
       "      <td>0.000000</td>\n",
       "      <td>0.000000</td>\n",
       "      <td>9.0</td>\n",
       "      <td>3</td>\n",
       "    </tr>\n",
       "    <tr>\n",
       "      <th>1</th>\n",
       "      <td>0</td>\n",
       "      <td>11.152542</td>\n",
       "      <td>0.996780</td>\n",
       "      <td>0.0</td>\n",
       "      <td>0.0</td>\n",
       "      <td>0.0</td>\n",
       "      <td>0.0</td>\n",
       "      <td>PHYSIQUE</td>\n",
       "      <td>45-65</td>\n",
       "      <td>1.0</td>\n",
       "      <td>...</td>\n",
       "      <td>1.0</td>\n",
       "      <td>1.0</td>\n",
       "      <td>1.0</td>\n",
       "      <td>0.0</td>\n",
       "      <td>0.0</td>\n",
       "      <td>Street</td>\n",
       "      <td>0.009259</td>\n",
       "      <td>0.240741</td>\n",
       "      <td>12.0</td>\n",
       "      <td>3</td>\n",
       "    </tr>\n",
       "    <tr>\n",
       "      <th>2</th>\n",
       "      <td>0</td>\n",
       "      <td>10.000000</td>\n",
       "      <td>0.000000</td>\n",
       "      <td>0.0</td>\n",
       "      <td>0.0</td>\n",
       "      <td>0.0</td>\n",
       "      <td>0.0</td>\n",
       "      <td>PHYSIQUE</td>\n",
       "      <td>45-65</td>\n",
       "      <td>1.0</td>\n",
       "      <td>...</td>\n",
       "      <td>1.0</td>\n",
       "      <td>1.0</td>\n",
       "      <td>0.0</td>\n",
       "      <td>0.0</td>\n",
       "      <td>0.0</td>\n",
       "      <td>Street</td>\n",
       "      <td>0.009259</td>\n",
       "      <td>0.546296</td>\n",
       "      <td>10.0</td>\n",
       "      <td>3</td>\n",
       "    </tr>\n",
       "    <tr>\n",
       "      <th>3</th>\n",
       "      <td>0</td>\n",
       "      <td>11.152542</td>\n",
       "      <td>0.996780</td>\n",
       "      <td>0.0</td>\n",
       "      <td>0.0</td>\n",
       "      <td>0.0</td>\n",
       "      <td>0.0</td>\n",
       "      <td>PHYSIQUE</td>\n",
       "      <td>25-45</td>\n",
       "      <td>1.0</td>\n",
       "      <td>...</td>\n",
       "      <td>1.0</td>\n",
       "      <td>1.0</td>\n",
       "      <td>0.0</td>\n",
       "      <td>0.0</td>\n",
       "      <td>0.0</td>\n",
       "      <td>Street</td>\n",
       "      <td>0.000000</td>\n",
       "      <td>0.057143</td>\n",
       "      <td>12.0</td>\n",
       "      <td>3</td>\n",
       "    </tr>\n",
       "    <tr>\n",
       "      <th>4</th>\n",
       "      <td>0</td>\n",
       "      <td>10.932203</td>\n",
       "      <td>1.127469</td>\n",
       "      <td>0.0</td>\n",
       "      <td>0.0</td>\n",
       "      <td>0.0</td>\n",
       "      <td>0.0</td>\n",
       "      <td>PHYSIQUE</td>\n",
       "      <td>25-45</td>\n",
       "      <td>1.0</td>\n",
       "      <td>...</td>\n",
       "      <td>1.0</td>\n",
       "      <td>1.0</td>\n",
       "      <td>0.0</td>\n",
       "      <td>0.0</td>\n",
       "      <td>0.0</td>\n",
       "      <td>Street</td>\n",
       "      <td>0.000000</td>\n",
       "      <td>0.027523</td>\n",
       "      <td>13.0</td>\n",
       "      <td>3</td>\n",
       "    </tr>\n",
       "  </tbody>\n",
       "</table>\n",
       "<p>5 rows × 21 columns</p>\n",
       "</div>"
      ],
      "text/plain": [
       "   CHURN    MEAN_PA    STD_PA  MEAN_OCC  STD_OCC  MEAN_EVENT  STD_EVENT  \\\n",
       "0      0   9.000000  0.000000       0.0      0.0         0.0        0.0   \n",
       "1      0  11.152542  0.996780       0.0      0.0         0.0        0.0   \n",
       "2      0  10.000000  0.000000       0.0      0.0         0.0        0.0   \n",
       "3      0  11.152542  0.996780       0.0      0.0         0.0        0.0   \n",
       "4      0  10.932203  1.127469       0.0      0.0         0.0        0.0   \n",
       "\n",
       "  TYPE_CONTACT TRANCHE_AGE  ADRESSE_POSTALE    ...     TELEPHONE  OPTIN  \\\n",
       "0     PHYSIQUE       25-45              1.0    ...           1.0    1.0   \n",
       "1     PHYSIQUE       45-65              1.0    ...           1.0    1.0   \n",
       "2     PHYSIQUE       45-65              1.0    ...           1.0    1.0   \n",
       "3     PHYSIQUE       25-45              1.0    ...           1.0    1.0   \n",
       "4     PHYSIQUE       25-45              1.0    ...           1.0    1.0   \n",
       "\n",
       "   STOP_TEL  STOP_MAILING  STOP_GENERAL  CANAL_ACQUISITION_AGG RATIO_CLICK  \\\n",
       "0       0.0           0.0           0.0                 Street    0.000000   \n",
       "1       1.0           0.0           0.0                 Street    0.009259   \n",
       "2       0.0           0.0           0.0                 Street    0.009259   \n",
       "3       0.0           0.0           0.0                 Street    0.000000   \n",
       "4       0.0           0.0           0.0                 Street    0.000000   \n",
       "\n",
       "   RATIO_OPEN  MEAN_3LAST  NB_3LAST  \n",
       "0    0.000000         9.0         3  \n",
       "1    0.240741        12.0         3  \n",
       "2    0.546296        10.0         3  \n",
       "3    0.057143        12.0         3  \n",
       "4    0.027523        13.0         3  \n",
       "\n",
       "[5 rows x 21 columns]"
      ]
     },
     "execution_count": 3,
     "metadata": {},
     "output_type": "execute_result"
    }
   ],
   "source": [
    "def read_data(data_filepath):\n",
    "    \"\"\"\n",
    "    Lit les données du modèle sauvées via le deuxième script de feature engineering\n",
    "    \"\"\"\n",
    "    data = pd.read_csv(os.path.join(data_filepath, 'data_modeles.csv'))\n",
    "    data = data.drop(['ID_CONTACT'], axis=1)\n",
    "    return data\n",
    "\n",
    "data = read_data(PATH_DATA)\n",
    "data.head()"
   ]
  },
  {
   "cell_type": "markdown",
   "metadata": {},
   "source": [
    "### Analyses des features\n",
    "Cela permet de nous assurer que les features sélectionnées sont bien linéairement indépendantes."
   ]
  },
  {
   "cell_type": "code",
   "execution_count": 4,
   "metadata": {},
   "outputs": [
    {
     "data": {
      "image/png": "[encoded data removed]",
      "text/plain": [
       "<Figure size 720x720 with 2 Axes>"
      ]
     },
     "metadata": {
      "needs_background": "light"
     },
     "output_type": "display_data"
    }
   ],
   "source": [
    "def display_corr(data):\n",
    "    \"\"\"\n",
    "    Affichage de la matrice de corrélation de data\n",
    "    \"\"\"\n",
    "    corr = data.corr().abs()  # calcul de la matrice de covariance\n",
    "    plt.figure(figsize=(10, 10))\n",
    "    mask = np.zeros_like(corr, dtype=np.bool) # On génère un masque pour cacher le triangle sup de la matrice\n",
    "    mask[np.triu_indices_from(mask)] = True\n",
    "    cmap = sns.color_palette(\"Greens\")\n",
    "    sns.heatmap(corr, mask=mask, cmap=cmap, square=True, linewidths=.5)\n",
    "    \n",
    "display_corr(data)"
   ]
  },
  {
   "cell_type": "code",
   "execution_count": 5,
   "metadata": {},
   "outputs": [],
   "source": [
    "def encode_cat_values(data, reset_index=True):\n",
    "    \"\"\"\n",
    "    Encodage des variables catégoriques\n",
    "    On ne garde que N-1 variables pour éviter les dépendances linéaire (en effet la dernière peut être déduite si les N-1 colonnes sont à 0)\n",
    "    \"\"\"\n",
    "    cat_cols = data.select_dtypes(include='object').columns\n",
    "    if reset_index:\n",
    "        data.reset_index(drop=True, inplace=True)\n",
    "    for col in cat_cols:\n",
    "        col_vals = np.array(data[col])  # on récupère les valeurs\n",
    "        val2enc = col_vals.reshape(len(col_vals), 1)  # on modifie la taille pour passer l'encodeur\n",
    "        ohe = OneHotEncoder(sparse=False)\n",
    "        newval = ohe.fit_transform(val2enc)\n",
    "        name_cols = list(map(lambda x: col + \"_\" + x, ohe.categories_[0]))  # noms des nouvelles colonnes\n",
    "        newdf = pd.DataFrame(newval[:,:-1], columns=name_cols[:-1]) \n",
    "        data = pd.concat([data.drop([col], axis=1), newdf], axis=1)  # on supprime l'ancienne feature\n",
    "    return data\n",
    "\n",
    "data = encode_cat_values(data)"
   ]
  },
  {
   "cell_type": "code",
   "execution_count": 8,
   "metadata": {},
   "outputs": [
    {
     "name": "stdout",
     "output_type": "stream",
     "text": [
      "Taille train set : 8892\n",
      "Taille test set : 2223\n"
     ]
    }
   ],
   "source": [
    "def split_train_test(data):\n",
    "    \"\"\"\n",
    "    Split les données en dataset de train et dataset de test (80% / 20%)\n",
    "    \"\"\"\n",
    "    data_train, data_test = train_test_split(data, test_size=0.2, shuffle=True, random_state=123)\n",
    "    y_train = data_train.pop('CHURN')\n",
    "    y_test = data_test.pop('CHURN')\n",
    "    print('Taille train set : {}'.format(len(data_train)))\n",
    "    print('Taille test set : {}'.format(len(data_test)))\n",
    "    return data_train, y_train, data_test, y_test\n",
    "\n",
    "x_train, y_train, x_test, y_test = split_train_test(data)"
   ]
  },
  {
   "cell_type": "code",
   "execution_count": 9,
   "metadata": {},
   "outputs": [
    {
     "name": "stderr",
     "output_type": "stream",
     "text": [
      "/usr/local/lib/python3.6/dist-packages/sklearn/preprocessing/data.py:617: DataConversionWarning: Data with input dtype int64, float64 were all converted to float64 by StandardScaler.\n",
      "  return self.partial_fit(X, y)\n",
      "/usr/local/lib/python3.6/dist-packages/sklearn/base.py:462: DataConversionWarning: Data with input dtype int64, float64 were all converted to float64 by StandardScaler.\n",
      "  return self.fit(X, **fit_params).transform(X)\n",
      "/usr/local/lib/python3.6/dist-packages/sklearn/preprocessing/data.py:617: DataConversionWarning: Data with input dtype int64, float64 were all converted to float64 by StandardScaler.\n",
      "  return self.partial_fit(X, y)\n",
      "/usr/local/lib/python3.6/dist-packages/sklearn/base.py:462: DataConversionWarning: Data with input dtype int64, float64 were all converted to float64 by StandardScaler.\n",
      "  return self.fit(X, **fit_params).transform(X)\n"
     ]
    }
   ],
   "source": [
    "def scaling(data):\n",
    "    \"\"\"\n",
    "    On normalise les données\n",
    "    \"\"\"\n",
    "    col_name = data.columns\n",
    "\n",
    "    scaler = StandardScaler()\n",
    "    data = scaler.fit_transform(data)\n",
    "    data = pd.DataFrame(data, columns=col_name)\n",
    "    return data\n",
    "\n",
    "x_train = scaling(x_train)\n",
    "x_test = scaling(x_test)"
   ]
  },
  {
   "cell_type": "markdown",
   "metadata": {},
   "source": [
    "### Entrainement de modèles\n",
    "Suite à une première passe, nous avons décidé de nous focalisé sur 3 types de modèles qui se révelaient efficace : la regression logistique, random forest et gradient boosting.\n",
    "On optimise les hyper-paramètres de ces modèles en balayant large dans un premier temps puis dans une petite fenêtre autour des valeurs trouvées. On se sert d'une validation croisée pour avoir une meilleure approximation de l'erreur de généralisation."
   ]
  },
  {
   "cell_type": "code",
   "execution_count": 10,
   "metadata": {},
   "outputs": [],
   "source": [
    "# Cross-validation KFold en 5 partitions indépendantes et aléatoires\n",
    "kf = KFold(n_splits=5, shuffle=True)"
   ]
  },
  {
   "cell_type": "code",
   "execution_count": 93,
   "metadata": {},
   "outputs": [
    {
     "name": "stdout",
     "output_type": "stream",
     "text": [
      "params Regression Logistique optimisés : {'C': 0.1, 'penalty': 'l2'}\n",
      "score optimisé : 0.777893610050457\n"
     ]
    },
    {
     "name": "stderr",
     "output_type": "stream",
     "text": [
      "/usr/local/lib/python3.6/dist-packages/sklearn/linear_model/logistic.py:432: FutureWarning: Default solver will be changed to 'lbfgs' in 0.22. Specify a solver to silence this warning.\n",
      "  FutureWarning)\n"
     ]
    }
   ],
   "source": [
    "# Optimisation des hyper-paramètres de la régression logistique\n",
    "\n",
    "RegLog = LogisticRegression()\n",
    "\n",
    "param_grid = {\n",
    "    \"C\" : [0.001, 0.01, 0.1, 1, 10, 100], \n",
    "    \"penalty\" : [\"l1\",\"l2\"]\n",
    "    }\n",
    "\n",
    "logreg_cv = GridSearchCV(RegLog, param_grid=param_grid, cv=kf, scoring='roc_auc', n_jobs=-1)\n",
    "logreg_cv.fit(x_train, y_train)\n",
    "params_opt = logreg_cv.best_params_\n",
    "score_opt = logreg_cv.best_score_\n",
    "\n",
    "print(\"params Regression Logistique optimisés : {}\".format(params_opt))\n",
    "print(\"score optimisé : {}\".format(score_opt))\n",
    "\n",
    "# {'C': 0.1, 'penalty': 'l2'}"
   ]
  },
  {
   "cell_type": "code",
   "execution_count": 11,
   "metadata": {},
   "outputs": [],
   "source": [
    "try:\n",
    "    RegLog_opt = LogisticRegression(C=params_opt['C'], \n",
    "                                    penalty=params_opt['penalty'])\n",
    "except:\n",
    "    RegLog_opt = LogisticRegression(C=0.1, \n",
    "                                    penalty='l1')"
   ]
  },
  {
   "cell_type": "code",
   "execution_count": 112,
   "metadata": {},
   "outputs": [
    {
     "name": "stdout",
     "output_type": "stream",
     "text": [
      "params Random Forest optimisés : {'criterion': 'entropy', 'max_depth': 5, 'max_features': 'auto', 'min_samples_split': 2, 'n_estimators': 200}\n",
      "score optimisé : 0.8100557951761086\n"
     ]
    }
   ],
   "source": [
    "# Optimisation des hyper-paramètres du RandomForest\n",
    "\n",
    "RandFor = RandomForestClassifier(n_estimators=100)\n",
    "\n",
    "param_grid = {\n",
    "    \"max_depth\": [3, 5, None],\n",
    "    'max_features': ['auto', 'sqrt'],\n",
    "    \"min_samples_split\": [2, 5],\n",
    "    \"criterion\": [\"gini\", \"entropy\"],\n",
    "    \"n_estimators\": [100, 200, 300]\n",
    "     }\n",
    "\n",
    "rand_gs = GridSearchCV(RandFor, param_grid=param_grid, cv=kf, scoring='roc_auc', n_jobs=-1)\n",
    "rand_gs.fit(x_train, y_train)\n",
    "params_opt = rand_gs.best_params_\n",
    "score_opt = rand_gs.best_score_\n",
    "\n",
    "print(\"params Random Forest optimisés : {}\".format(params_opt))\n",
    "print(\"score optimisé : {}\".format(score_opt))\n",
    "\n",
    "# {'criterion': 'entropy', 'max_depth': 5, 'max_features': 'auto', \n",
    "#  'min_samples_split': 2, 'n_estimators': 200}"
   ]
  },
  {
   "cell_type": "code",
   "execution_count": 12,
   "metadata": {},
   "outputs": [],
   "source": [
    "try:\n",
    "    RandFor_opt = RandomForestClassifier(n_estimators=params_opt['n_estimators'], \n",
    "                                         max_depth=params_opt['max_depth'], \n",
    "                                         max_features=params_opt['max_features'],\n",
    "                                         min_samples_split=params_opt['min_samples_split'],\n",
    "                                         criterion=params_opt['criterion'])\n",
    "except:\n",
    "    RandFor_opt = RandomForestClassifier(n_estimators=200, \n",
    "                                         max_depth=5, \n",
    "                                         max_features='auto',\n",
    "                                         min_samples_split=2,\n",
    "                                         criterion='entropy')"
   ]
  },
  {
   "cell_type": "code",
   "execution_count": 116,
   "metadata": {},
   "outputs": [
    {
     "name": "stdout",
     "output_type": "stream",
     "text": [
      "params XGBoost optimisés : {'colsample_bytree': 0.7, 'gamma': 5, 'max_depth': 4, 'min_child_weight': 1, 'n_estimators': 200, 'subsample': 0.9}\n",
      "score optimisé : 0.8237897079416705\n"
     ]
    }
   ],
   "source": [
    "# Optimisation des hyper-paramètres du XGBoost \n",
    "    \n",
    "XGB = XGBClassifier()    \n",
    "\n",
    "param_grid = {\n",
    "    'max_depth': [4],\n",
    "    'min_child_weight': [1],\n",
    "    'gamma': [5, 8, 10],\n",
    "    'subsample': [0.7, 0.9],\n",
    "    'colsample_bytree': [0.6, 0.7],\n",
    "    'n_estimators': [100, 200, 500]\n",
    "    }\n",
    "\n",
    "xgb_gs = GridSearchCV(XGB, param_grid=param_grid, cv=kf, scoring='roc_auc', n_jobs=-1)\n",
    "xgb_gs.fit(x_train, y_train)\n",
    "params_opt = xgb_gs.best_params_\n",
    "score_opt = xgb_gs.best_score_\n",
    "\n",
    "print(\"params XGBoost optimisés : {}\".format(params_opt))\n",
    "print(\"score optimisé : {}\".format(score_opt))\n",
    "\n",
    "# params optimisés : {'gamma': 2, 'max_depth': 4, 'min_child_weight': 1, 'subsample': 0.8}"
   ]
  },
  {
   "cell_type": "code",
   "execution_count": 13,
   "metadata": {},
   "outputs": [],
   "source": [
    "try:\n",
    "    XGB_opt = XGBClassifier(n_estimators=params_opt['n_estimators'],\n",
    "                            min_child_weight=params_opt['min_child_weight'], \n",
    "                            gamma=params_opt['gamma'], \n",
    "                            subsample=params_opt['subsample'],\n",
    "                            max_depth=params_opt['max_depth'],\n",
    "                            colsample_bytree=params_opt['colsample_bytree'])\n",
    "except:\n",
    "    XGB_opt = XGBClassifier(n_estimators=200,\n",
    "                            min_child_weight=1, \n",
    "                            gamma=5, \n",
    "                            subsample=0.9,\n",
    "                            max_depth=4,\n",
    "                            colsample_bytree=0.7)"
   ]
  },
  {
   "cell_type": "markdown",
   "metadata": {},
   "source": [
    "On définit un modèle de bagging de ces différents modèles pour essayer de saisir à la fois les linéarités du modèle (regression logistique) ainsi que les non-linéarités."
   ]
  },
  {
   "cell_type": "code",
   "execution_count": 33,
   "metadata": {},
   "outputs": [
    {
     "name": "stdout",
     "output_type": "stream",
     "text": [
      "Score cross-val: 0.9649122807017544\n"
     ]
    }
   ],
   "source": [
    "# Définition du VotingClassifier\n",
    "voting = VotingClassifier(estimators=[('rl', RegLog_opt),('rf', RandFor_opt), ('xgb', XGB_opt)],\n",
    "                          voting='soft', weights = [1, 1, 1], n_jobs=-1)\n",
    "voting.fit(x_train, y_train)\n",
    "print(\"Score cross-val: \" + str(voting.score(x_test, y_test)))"
   ]
  },
  {
   "cell_type": "markdown",
   "metadata": {},
   "source": [
    "##### Prédiction sur le test set et évaluation"
   ]
  },
  {
   "cell_type": "code",
   "execution_count": 42,
   "metadata": {},
   "outputs": [
    {
     "data": {
      "text/html": [
       "<div>\n",
       "<style scoped>\n",
       "    .dataframe tbody tr th:only-of-type {\n",
       "        vertical-align: middle;\n",
       "    }\n",
       "\n",
       "    .dataframe tbody tr th {\n",
       "        vertical-align: top;\n",
       "    }\n",
       "\n",
       "    .dataframe thead th {\n",
       "        text-align: right;\n",
       "    }\n",
       "</style>\n",
       "<table border=\"1\" class=\"dataframe\">\n",
       "  <thead>\n",
       "    <tr style=\"text-align: right;\">\n",
       "      <th></th>\n",
       "      <th>PROBA_CHURN</th>\n",
       "      <th>CHURN</th>\n",
       "    </tr>\n",
       "  </thead>\n",
       "  <tbody>\n",
       "    <tr>\n",
       "      <th>9159</th>\n",
       "      <td>0.015581</td>\n",
       "      <td>0</td>\n",
       "    </tr>\n",
       "    <tr>\n",
       "      <th>10</th>\n",
       "      <td>0.010655</td>\n",
       "      <td>0</td>\n",
       "    </tr>\n",
       "    <tr>\n",
       "      <th>1504</th>\n",
       "      <td>0.016981</td>\n",
       "      <td>0</td>\n",
       "    </tr>\n",
       "    <tr>\n",
       "      <th>6681</th>\n",
       "      <td>0.020348</td>\n",
       "      <td>0</td>\n",
       "    </tr>\n",
       "    <tr>\n",
       "      <th>5414</th>\n",
       "      <td>0.021528</td>\n",
       "      <td>0</td>\n",
       "    </tr>\n",
       "  </tbody>\n",
       "</table>\n",
       "</div>"
      ],
      "text/plain": [
       "      PROBA_CHURN  CHURN\n",
       "9159     0.015581      0\n",
       "10       0.010655      0\n",
       "1504     0.016981      0\n",
       "6681     0.020348      0\n",
       "5414     0.021528      0"
      ]
     },
     "execution_count": 42,
     "metadata": {},
     "output_type": "execute_result"
    }
   ],
   "source": [
    "# Prédiction sur le test_set\n",
    "probas = voting.predict_proba(x_test)\n",
    "probas_churn = list(map(lambda el : el[1], probas))\n",
    "result_contact = pd.DataFrame({'PROBA_CHURN' : probas_churn, \n",
    "                               'CHURN' : y_test})\n",
    "result_contact.head()"
   ]
  },
  {
   "cell_type": "code",
   "execution_count": 39,
   "metadata": {},
   "outputs": [
    {
     "name": "stdout",
     "output_type": "stream",
     "text": [
      "AUC test set : 0.8030303030303031\n",
      "Precision test set : 0.22594142259414227\n",
      "Recall test set : 0.6923076923076923\n"
     ]
    }
   ],
   "source": [
    "# Evaluation des résultats pour un seuil fixé\n",
    "\n",
    "SEUIL = 0.036\n",
    "result_contact['PREDICT_CHURN'] = result_contact['PROBA_CHURN'].map(lambda proba : 1 if proba > SEUIL else 0)\n",
    "\n",
    "auc_score = roc_auc_score(result_contact['CHURN'], result_contact['PREDICT_CHURN'])\n",
    "prec_score = precision_score(result_contact['CHURN'], result_contact['PREDICT_CHURN'])\n",
    "rec_score = recall_score(result_contact['CHURN'], result_contact['PREDICT_CHURN'])\n",
    "\n",
    "print(\"AUC test set : {}\".format(auc_score))\n",
    "print(\"Precision test set : {}\".format(prec_score))\n",
    "print(\"Recall test set : {}\".format(rec_score))"
   ]
  },
  {
   "cell_type": "code",
   "execution_count": 41,
   "metadata": {},
   "outputs": [
    {
     "data": {
      "text/plain": [
       "Text(0,0.5,'Feature Importance Score')"
      ]
     },
     "execution_count": 41,
     "metadata": {},
     "output_type": "execute_result"
    },
    {
     "data": {
      "image/png": "[encoded data removed]",
      "text/plain": [
       "<Figure size 1080x432 with 1 Axes>"
      ]
     },
     "metadata": {},
     "output_type": "display_data"
    }
   ],
   "source": [
    "# Observation de l'importance de chaque feature\n",
    "XGB_opt.fit(x_train, y_train)\n",
    "\n",
    "feat_imp = pd.Series(XGB_opt.get_booster().get_fscore()).sort_values(ascending=False)\n",
    "plt.figure(figsize=(15, 6))\n",
    "feat_imp.plot(kind='bar', title='Feature Importances')\n",
    "plt.ylabel('Feature Importance Score')"
   ]
  },
  {
   "cell_type": "markdown",
   "metadata": {},
   "source": [
    "### Conclusion\n",
    "\n",
    "On remarque que les features les plus importantes sont les features extensives, c'est à dire celles refletant le comportement du client dans les 3 derniers mois. Cela parait logique car un client fidèle au global mais qui s'en va, a des chances d'être moins présent envers l'ONG dans les derniers mois de sa relation avec celle-ci.\n",
    "On remarque également que le taux de clic et d'ouverture de mail est également important, ce qui signifie là-dessus que les campagnes de mailing list peuvent avoir un impact sur la fidélité des clients.\n",
    "\n",
    "Avec ces résultats, nous pouvons déduire 3 categories de clients avec des recommandations associées :\n",
    "- les clients qui resteront fidèles : aucune action particulière envisagée\n",
    "- les clients ayant une forte probabilité de partir : il faut engager un fort dispositif pour les faire rester, nous proposons de les appeler un par un pour les motiver à donner à l'ONG. A contrario, nous pouvons récolter des feedbakcs qui permettront à l'ONG de s'améliorer.\n",
    "- les clients ayant une probabilité non négligeable de partir : une campagne via mailing list personnalisée les invitant à rester ou une campagne un peu personnalisée."
   ]
  },
  {
   "cell_type": "code",
   "execution_count": null,
   "metadata": {},
   "outputs": [],
   "source": []
  }
 ],
 "metadata": {
  "kernelspec": {
   "display_name": "Python 3",
   "language": "python",
   "name": "python3"
  },
  "language_info": {
   "codemirror_mode": {
    "name": "ipython",
    "version": 3
   },
   "file_extension": ".py",
   "mimetype": "text/x-python",
   "name": "python",
   "nbconvert_exporter": "python",
   "pygments_lexer": "ipython3",
   "version": "3.6.7"
  }
 },
 "nbformat": 4,
 "nbformat_minor": 2
}
