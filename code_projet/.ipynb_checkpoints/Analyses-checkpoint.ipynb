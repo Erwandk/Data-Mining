{
 "cells": [
  {
   "cell_type": "code",
   "execution_count": 16,
   "metadata": {},
   "outputs": [],
   "source": [
    "# Importation des librairies\n",
    "import pandas as pd\n",
    "import matplotlib.pyplot as plt\n",
    "import os\n",
    "\n",
    "%matplotlib inline"
   ]
  },
  {
   "cell_type": "code",
   "execution_count": 2,
   "metadata": {},
   "outputs": [],
   "source": [
    "# Chemin vers les données, par défaut '../data'\n",
    "PATH_DATA = \"../../data\""
   ]
  },
  {
   "cell_type": "code",
   "execution_count": 21,
   "metadata": {},
   "outputs": [
    {
     "data": {
      "text/html": [
       "<div>\n",
       "<style scoped>\n",
       "    .dataframe tbody tr th:only-of-type {\n",
       "        vertical-align: middle;\n",
       "    }\n",
       "\n",
       "    .dataframe tbody tr th {\n",
       "        vertical-align: top;\n",
       "    }\n",
       "\n",
       "    .dataframe thead th {\n",
       "        text-align: right;\n",
       "    }\n",
       "</style>\n",
       "<table border=\"1\" class=\"dataframe\">\n",
       "  <thead>\n",
       "    <tr style=\"text-align: right;\">\n",
       "      <th></th>\n",
       "      <th>VENTILATION_ID</th>\n",
       "      <th>DATE_DE_RECEPTION</th>\n",
       "      <th>ID_CONTACT</th>\n",
       "      <th>MONTANT_MOUVEMENT</th>\n",
       "      <th>CAM_CODE</th>\n",
       "      <th>OPERATION</th>\n",
       "      <th>SEGMENT</th>\n",
       "      <th>MOUVEMENT_ID</th>\n",
       "      <th>OFT_CODE</th>\n",
       "      <th>MODE_DE_PAIEMENT</th>\n",
       "      <th>MONTANT_VENTILATION</th>\n",
       "    </tr>\n",
       "  </thead>\n",
       "  <tbody>\n",
       "    <tr>\n",
       "      <th>0</th>\n",
       "      <td>2415602.0</td>\n",
       "      <td>2014-01-10</td>\n",
       "      <td>713843</td>\n",
       "      <td>10.0</td>\n",
       "      <td>PA</td>\n",
       "      <td>PA</td>\n",
       "      <td>PA</td>\n",
       "      <td>1116673.0</td>\n",
       "      <td>DON</td>\n",
       "      <td>PRE</td>\n",
       "      <td>10.0</td>\n",
       "    </tr>\n",
       "    <tr>\n",
       "      <th>1</th>\n",
       "      <td>2415603.0</td>\n",
       "      <td>2014-01-10</td>\n",
       "      <td>818435</td>\n",
       "      <td>7.0</td>\n",
       "      <td>PA</td>\n",
       "      <td>PA</td>\n",
       "      <td>PA</td>\n",
       "      <td>1116674.0</td>\n",
       "      <td>DON</td>\n",
       "      <td>PRE</td>\n",
       "      <td>7.0</td>\n",
       "    </tr>\n",
       "    <tr>\n",
       "      <th>2</th>\n",
       "      <td>2415604.0</td>\n",
       "      <td>2014-01-10</td>\n",
       "      <td>811465</td>\n",
       "      <td>10.0</td>\n",
       "      <td>PA</td>\n",
       "      <td>PA</td>\n",
       "      <td>PA</td>\n",
       "      <td>1116675.0</td>\n",
       "      <td>DON</td>\n",
       "      <td>PRE</td>\n",
       "      <td>10.0</td>\n",
       "    </tr>\n",
       "    <tr>\n",
       "      <th>3</th>\n",
       "      <td>2415605.0</td>\n",
       "      <td>2014-01-10</td>\n",
       "      <td>818439</td>\n",
       "      <td>10.0</td>\n",
       "      <td>PA</td>\n",
       "      <td>PA</td>\n",
       "      <td>PA</td>\n",
       "      <td>1116676.0</td>\n",
       "      <td>DON</td>\n",
       "      <td>PRE</td>\n",
       "      <td>10.0</td>\n",
       "    </tr>\n",
       "    <tr>\n",
       "      <th>4</th>\n",
       "      <td>2415606.0</td>\n",
       "      <td>2014-01-10</td>\n",
       "      <td>818443</td>\n",
       "      <td>0.0</td>\n",
       "      <td>PA</td>\n",
       "      <td>PA</td>\n",
       "      <td>PA</td>\n",
       "      <td>1116677.0</td>\n",
       "      <td>DON</td>\n",
       "      <td>PRE</td>\n",
       "      <td>0.0</td>\n",
       "    </tr>\n",
       "  </tbody>\n",
       "</table>\n",
       "</div>"
      ],
      "text/plain": [
       "   VENTILATION_ID DATE_DE_RECEPTION  ID_CONTACT  MONTANT_MOUVEMENT CAM_CODE  \\\n",
       "0       2415602.0        2014-01-10      713843               10.0       PA   \n",
       "1       2415603.0        2014-01-10      818435                7.0       PA   \n",
       "2       2415604.0        2014-01-10      811465               10.0       PA   \n",
       "3       2415605.0        2014-01-10      818439               10.0       PA   \n",
       "4       2415606.0        2014-01-10      818443                0.0       PA   \n",
       "\n",
       "  OPERATION SEGMENT  MOUVEMENT_ID OFT_CODE MODE_DE_PAIEMENT  \\\n",
       "0        PA      PA     1116673.0      DON              PRE   \n",
       "1        PA      PA     1116674.0      DON              PRE   \n",
       "2        PA      PA     1116675.0      DON              PRE   \n",
       "3        PA      PA     1116676.0      DON              PRE   \n",
       "4        PA      PA     1116677.0      DON              PRE   \n",
       "\n",
       "   MONTANT_VENTILATION  \n",
       "0                 10.0  \n",
       "1                  7.0  \n",
       "2                 10.0  \n",
       "3                 10.0  \n",
       "4                  0.0  "
      ]
     },
     "execution_count": 21,
     "metadata": {},
     "output_type": "execute_result"
    }
   ],
   "source": [
    "# Lecture des données\n",
    "def read_regular_donator(data_filepath):\n",
    "    \"\"\"\n",
    "    Lit les données des donateurs réguliers enregristrés via le premier script de feature engineering\n",
    "    \"\"\"\n",
    "    donators_regular = pd.read_csv(os.path.join(data_filepath,'dons_reguliers_cleaned.csv'))\n",
    "    return donators_regular\n",
    "\n",
    "dons_reg = read_regular_donator(PATH_DATA)\n",
    "# on ne garde que les prélèvements automatiques pour analyser les donations régulières\n",
    "dons_reg = dons_reg.loc[dons_reg.CAM_CODE == 'PA']\n",
    "dons_reg.head()"
   ]
  },
  {
   "cell_type": "code",
   "execution_count": 22,
   "metadata": {},
   "outputs": [
    {
     "name": "stdout",
     "output_type": "stream",
     "text": [
      "Il y a 21641 donateurs réguliers entre 2014 et 2018.\n",
      "Les donateurs réguliers font en moyenne 24.1 dons\n",
      "Les donateurs réguliers donnent en moyenne 11.18€ par dons\n",
      "Cela génère donc un revenu moyen de 269.37€ par donateur régulier.\n",
      "La transaction la plus commune correspond à un virement de 10.0€ (174721 transactions).\n"
     ]
    }
   ],
   "source": [
    "# Analyse des donateurs \n",
    "nb_reg = dons_reg.ID_CONTACT.nunique()\n",
    "nb_don_moyen_donateur_reg = dons_reg.ID_CONTACT.value_counts().values.mean()\n",
    "mean_montant_reg = dons_reg[['MONTANT_MOUVEMENT', 'MOUVEMENT_ID']].groupby('MOUVEMENT_ID').agg('sum').MONTANT_MOUVEMENT.mean()\n",
    "max_transac_reg = dons_reg.MONTANT_VENTILATION.value_counts().index[0]\n",
    "nb_max_transac_reg = dons_reg.MONTANT_VENTILATION.value_counts().values[0]\n",
    "\n",
    "print(\"Il y a {} donateurs réguliers entre 2014 et 2018.\".format(nb_reg))\n",
    "print(\"Les donateurs réguliers font en moyenne {} dons\".format(round(nb_don_moyen_donateur_reg, 1)))\n",
    "print(\"Les donateurs réguliers donnent en moyenne {}€ par dons\".format(round(mean_montant_reg, 2)))\n",
    "print(\"Cela génère donc un revenu moyen de {}€ par donateur régulier.\".format(round(nb_don_moyen_donateur_reg * mean_montant_reg, 2)))\n",
    "print(\"La transaction la plus commune correspond à un virement de {}€ ({} transactions).\".format(max_transac_reg, nb_max_transac_reg))"
   ]
  },
  {
   "cell_type": "code",
   "execution_count": 23,
   "metadata": {},
   "outputs": [
    {
     "data": {
      "text/plain": [
       "[Text(0, 0.5, 'nombre de donateurs'), Text(0.5, 0, 'temps')]"
      ]
     },
     "execution_count": 23,
     "metadata": {},
     "output_type": "execute_result"
    },
    {
     "data": {
      "image/png": "[encoded data removed]",
      "text/plain": [
       "<Figure size 1080x432 with 1 Axes>"
      ]
     },
     "metadata": {
      "needs_background": "light"
     },
     "output_type": "display_data"
    }
   ],
   "source": [
    "# Evolution du nombre de donateurs réguliers au cours du temps\n",
    "nb_transac_reg = dons_reg[dons_reg.CAM_CODE == 'PA'][['DATE_DE_RECEPTION', 'ID_CONTACT']].groupby('DATE_DE_RECEPTION').agg('nunique')\n",
    "ax = nb_transac_reg.ID_CONTACT.plot(kind='bar', figsize=(15, 6), \n",
    "                              title=\"Evolution du nombre de donateurs réguliers au cours du temps\", \n",
    "                              color=\"red\")\n",
    "ax.set(xlabel=\"temps\", ylabel=\"nombre de donateurs\")"
   ]
  },
  {
   "cell_type": "code",
   "execution_count": null,
   "metadata": {},
   "outputs": [],
   "source": []
  }
 ],
 "metadata": {
  "kernelspec": {
   "display_name": "Python 3",
   "language": "python",
   "name": "python3"
  },
  "language_info": {
   "codemirror_mode": {
    "name": "ipython",
    "version": 3
   },
   "file_extension": ".py",
   "mimetype": "text/x-python",
   "name": "python",
   "nbconvert_exporter": "python",
   "pygments_lexer": "ipython3",
   "version": "3.6.7"
  }
 },
 "nbformat": 4,
 "nbformat_minor": 2
}
