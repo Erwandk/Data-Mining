{
 "cells": [
  {
   "cell_type": "markdown",
   "metadata": {},
   "source": [
    "## Analyse de données\n",
    "***Ce script a pour but d'analyser les données des donateurs réguliers (en terme de donations) ainsi que d'analyser le churn de ces donateurs et ce qui différencie les deux catégories.***  \n",
    "On se base sur le dataset propre traité par le premier script de feature engineering."
   ]
  },
  {
   "cell_type": "markdown",
   "metadata": {},
   "source": [
    "#### Importation des librairies"
   ]
  },
  {
   "cell_type": "code",
   "execution_count": 1,
   "metadata": {},
   "outputs": [],
   "source": [
    "import pandas as pd\n",
    "import numpy as np\n",
    "import matplotlib.pyplot as plt\n",
    "import os\n",
    "\n",
    "%matplotlib inline\n",
    "pd.options.display.max_columns = None"
   ]
  },
  {
   "cell_type": "markdown",
   "metadata": {},
   "source": [
    "#### Lecture des données\n",
    "On lit les données enregistrées dans la répertoire 'PATH_DATA', qui ont été préalablement traitées par le script __Feat_Eng_1__."
   ]
  },
  {
   "cell_type": "code",
   "execution_count": 5,
   "metadata": {},
   "outputs": [],
   "source": [
    "# Chemin vers les données, par défaut '../data'\n",
    "PATH_DATA = \"../data\""
   ]
  },
  {
   "cell_type": "code",
   "execution_count": 6,
   "metadata": {},
   "outputs": [
    {
     "data": {
      "text/html": [
       "<div>\n",
       "<style scoped>\n",
       "    .dataframe tbody tr th:only-of-type {\n",
       "        vertical-align: middle;\n",
       "    }\n",
       "\n",
       "    .dataframe tbody tr th {\n",
       "        vertical-align: top;\n",
       "    }\n",
       "\n",
       "    .dataframe thead th {\n",
       "        text-align: right;\n",
       "    }\n",
       "</style>\n",
       "<table border=\"1\" class=\"dataframe\">\n",
       "  <thead>\n",
       "    <tr style=\"text-align: right;\">\n",
       "      <th></th>\n",
       "      <th>VENTILATION_ID</th>\n",
       "      <th>DATE_DE_RECEPTION</th>\n",
       "      <th>ID_CONTACT</th>\n",
       "      <th>MONTANT_MOUVEMENT</th>\n",
       "      <th>CAM_CODE</th>\n",
       "      <th>OPERATION</th>\n",
       "      <th>SEGMENT</th>\n",
       "      <th>MOUVEMENT_ID</th>\n",
       "      <th>OFT_CODE</th>\n",
       "      <th>MODE_DE_PAIEMENT</th>\n",
       "      <th>MONTANT_VENTILATION</th>\n",
       "    </tr>\n",
       "  </thead>\n",
       "  <tbody>\n",
       "    <tr>\n",
       "      <th>0</th>\n",
       "      <td>2415602.0</td>\n",
       "      <td>2014-01-10</td>\n",
       "      <td>713843</td>\n",
       "      <td>10.0</td>\n",
       "      <td>PA</td>\n",
       "      <td>PA</td>\n",
       "      <td>PA</td>\n",
       "      <td>1116673.0</td>\n",
       "      <td>DON</td>\n",
       "      <td>PRE</td>\n",
       "      <td>10.0</td>\n",
       "    </tr>\n",
       "    <tr>\n",
       "      <th>1</th>\n",
       "      <td>2415603.0</td>\n",
       "      <td>2014-01-10</td>\n",
       "      <td>818435</td>\n",
       "      <td>7.0</td>\n",
       "      <td>PA</td>\n",
       "      <td>PA</td>\n",
       "      <td>PA</td>\n",
       "      <td>1116674.0</td>\n",
       "      <td>DON</td>\n",
       "      <td>PRE</td>\n",
       "      <td>7.0</td>\n",
       "    </tr>\n",
       "    <tr>\n",
       "      <th>2</th>\n",
       "      <td>2415604.0</td>\n",
       "      <td>2014-01-10</td>\n",
       "      <td>811465</td>\n",
       "      <td>10.0</td>\n",
       "      <td>PA</td>\n",
       "      <td>PA</td>\n",
       "      <td>PA</td>\n",
       "      <td>1116675.0</td>\n",
       "      <td>DON</td>\n",
       "      <td>PRE</td>\n",
       "      <td>10.0</td>\n",
       "    </tr>\n",
       "    <tr>\n",
       "      <th>3</th>\n",
       "      <td>2415605.0</td>\n",
       "      <td>2014-01-10</td>\n",
       "      <td>818439</td>\n",
       "      <td>10.0</td>\n",
       "      <td>PA</td>\n",
       "      <td>PA</td>\n",
       "      <td>PA</td>\n",
       "      <td>1116676.0</td>\n",
       "      <td>DON</td>\n",
       "      <td>PRE</td>\n",
       "      <td>10.0</td>\n",
       "    </tr>\n",
       "    <tr>\n",
       "      <th>4</th>\n",
       "      <td>2415606.0</td>\n",
       "      <td>2014-01-10</td>\n",
       "      <td>818443</td>\n",
       "      <td>0.0</td>\n",
       "      <td>PA</td>\n",
       "      <td>PA</td>\n",
       "      <td>PA</td>\n",
       "      <td>1116677.0</td>\n",
       "      <td>DON</td>\n",
       "      <td>PRE</td>\n",
       "      <td>0.0</td>\n",
       "    </tr>\n",
       "  </tbody>\n",
       "</table>\n",
       "</div>"
      ],
      "text/plain": [
       "   VENTILATION_ID DATE_DE_RECEPTION  ID_CONTACT  MONTANT_MOUVEMENT CAM_CODE  \\\n",
       "0       2415602.0        2014-01-10      713843               10.0       PA   \n",
       "1       2415603.0        2014-01-10      818435                7.0       PA   \n",
       "2       2415604.0        2014-01-10      811465               10.0       PA   \n",
       "3       2415605.0        2014-01-10      818439               10.0       PA   \n",
       "4       2415606.0        2014-01-10      818443                0.0       PA   \n",
       "\n",
       "  OPERATION SEGMENT  MOUVEMENT_ID OFT_CODE MODE_DE_PAIEMENT  \\\n",
       "0        PA      PA     1116673.0      DON              PRE   \n",
       "1        PA      PA     1116674.0      DON              PRE   \n",
       "2        PA      PA     1116675.0      DON              PRE   \n",
       "3        PA      PA     1116676.0      DON              PRE   \n",
       "4        PA      PA     1116677.0      DON              PRE   \n",
       "\n",
       "   MONTANT_VENTILATION  \n",
       "0                 10.0  \n",
       "1                  7.0  \n",
       "2                 10.0  \n",
       "3                 10.0  \n",
       "4                  0.0  "
      ]
     },
     "execution_count": 6,
     "metadata": {},
     "output_type": "execute_result"
    }
   ],
   "source": [
    "# Lecture des données\n",
    "def read_regular_donator(data_filepath):\n",
    "    \"\"\"\n",
    "    Lit les données des donateurs réguliers enregristrés via le premier script de feature engineering\n",
    "    \"\"\"\n",
    "    donators_regular = pd.read_csv(os.path.join(data_filepath,'dons_reguliers_cleaned.csv'))\n",
    "    \n",
    "    # on ne garde que les prélèvements automatiques pour analyser les donations régulières\n",
    "    donators_regular = donators_regular.loc[donators_regular.CAM_CODE == 'PA']\n",
    "    return donators_regular\n",
    "\n",
    "dons_reg = read_regular_donator(PATH_DATA)\n",
    "dons_reg.head()"
   ]
  },
  {
   "cell_type": "markdown",
   "metadata": {},
   "source": [
    "### Analyse des donateurs\n",
    "On calcule pour ce segment le nombre de donateurs, le nombre de dons moyens, le montant moyen par dons, le revenu généré ainsi que la transaction la plus commune."
   ]
  },
  {
   "cell_type": "code",
   "execution_count": 7,
   "metadata": {},
   "outputs": [
    {
     "name": "stdout",
     "output_type": "stream",
     "text": [
      "Il y a 21641 donateurs réguliers entre 2014 et 2018.\n",
      "Les donateurs réguliers font en moyenne 24.1 dons\n",
      "Les donateurs réguliers donnent en moyenne 11.18€ par dons\n",
      "Cela génère donc un revenu moyen de 269.37€ par donateur régulier.\n",
      "La transaction la plus commune correspond à un virement de 10.0€ (174721 transactions).\n"
     ]
    }
   ],
   "source": [
    "# Etude statistique\n",
    "nb_reg = dons_reg.ID_CONTACT.nunique()\n",
    "nb_don_moyen_donateur_reg = dons_reg.ID_CONTACT.value_counts().values.mean()\n",
    "mean_montant_reg = dons_reg[['MONTANT_MOUVEMENT', 'MOUVEMENT_ID']].groupby('MOUVEMENT_ID').agg('sum').MONTANT_MOUVEMENT.mean()\n",
    "max_transac_reg = dons_reg.MONTANT_VENTILATION.value_counts().index[0]\n",
    "nb_max_transac_reg = dons_reg.MONTANT_VENTILATION.value_counts().values[0]\n",
    "\n",
    "print(\"Il y a {} donateurs réguliers entre 2014 et 2018.\".format(nb_reg))\n",
    "print(\"Les donateurs réguliers font en moyenne {} dons\".format(round(nb_don_moyen_donateur_reg, 1)))\n",
    "print(\"Les donateurs réguliers donnent en moyenne {}€ par dons\".format(round(mean_montant_reg, 2)))\n",
    "print(\"Cela génère donc un revenu moyen de {}€ par donateur régulier.\".format(round(nb_don_moyen_donateur_reg * mean_montant_reg, 2)))\n",
    "print(\"La transaction la plus commune correspond à un virement de {}€ ({} transactions).\".format(max_transac_reg, nb_max_transac_reg))"
   ]
  },
  {
   "cell_type": "code",
   "execution_count": 8,
   "metadata": {},
   "outputs": [
    {
     "data": {
      "text/plain": [
       "[Text(0, 0.5, 'nombre de donateurs'), Text(0.5, 0, 'temps')]"
      ]
     },
     "execution_count": 8,
     "metadata": {},
     "output_type": "execute_result"
    },
    {
     "data": {
      "image/png": "[encoded data removed]",
      "text/plain": [
       "<Figure size 1080x432 with 1 Axes>"
      ]
     },
     "metadata": {
      "needs_background": "light"
     },
     "output_type": "display_data"
    }
   ],
   "source": [
    "# Evolution du nombre de donateurs réguliers au cours du temps\n",
    "nb_transac_reg = dons_reg[dons_reg.CAM_CODE == 'PA'][['DATE_DE_RECEPTION', 'ID_CONTACT']].groupby('DATE_DE_RECEPTION').agg('nunique')\n",
    "ax = nb_transac_reg.ID_CONTACT.plot(kind='bar', figsize=(15, 6), \n",
    "                              title=\"Evolution du nombre de donateurs réguliers au cours du temps\", \n",
    "                              color=\"darkred\")\n",
    "ax.set(xlabel=\"temps\", ylabel=\"nombre de donateurs\")"
   ]
  },
  {
   "cell_type": "markdown",
   "metadata": {},
   "source": [
    "### Analyse du churn\n",
    "On définit le churn pour un mois N comme suit : c'est le nombre de personnes qui ont donné au mois N mais qui ne donne plus au mois N+1 divisé par le nombre de donateurs réguliers au mois N."
   ]
  },
  {
   "cell_type": "code",
   "execution_count": 9,
   "metadata": {},
   "outputs": [
    {
     "data": {
      "text/html": [
       "<div>\n",
       "<style scoped>\n",
       "    .dataframe tbody tr th:only-of-type {\n",
       "        vertical-align: middle;\n",
       "    }\n",
       "\n",
       "    .dataframe tbody tr th {\n",
       "        vertical-align: top;\n",
       "    }\n",
       "\n",
       "    .dataframe thead th {\n",
       "        text-align: right;\n",
       "    }\n",
       "</style>\n",
       "<table border=\"1\" class=\"dataframe\">\n",
       "  <thead>\n",
       "    <tr style=\"text-align: right;\">\n",
       "      <th></th>\n",
       "      <th>NB_DONATEURS</th>\n",
       "      <th>NB_CHURN</th>\n",
       "      <th>TAUX_CHURN</th>\n",
       "    </tr>\n",
       "    <tr>\n",
       "      <th>DATE_DE_RECEPTION</th>\n",
       "      <th></th>\n",
       "      <th></th>\n",
       "      <th></th>\n",
       "    </tr>\n",
       "  </thead>\n",
       "  <tbody>\n",
       "    <tr>\n",
       "      <th>2014-01-10</th>\n",
       "      <td>6298</td>\n",
       "      <td>99</td>\n",
       "      <td>0.015719</td>\n",
       "    </tr>\n",
       "    <tr>\n",
       "      <th>2014-02-10</th>\n",
       "      <td>6358</td>\n",
       "      <td>60</td>\n",
       "      <td>0.009437</td>\n",
       "    </tr>\n",
       "    <tr>\n",
       "      <th>2014-03-10</th>\n",
       "      <td>6376</td>\n",
       "      <td>87</td>\n",
       "      <td>0.013645</td>\n",
       "    </tr>\n",
       "    <tr>\n",
       "      <th>2014-04-10</th>\n",
       "      <td>6324</td>\n",
       "      <td>59</td>\n",
       "      <td>0.009330</td>\n",
       "    </tr>\n",
       "    <tr>\n",
       "      <th>2014-05-10</th>\n",
       "      <td>6282</td>\n",
       "      <td>56</td>\n",
       "      <td>0.008914</td>\n",
       "    </tr>\n",
       "  </tbody>\n",
       "</table>\n",
       "</div>"
      ],
      "text/plain": [
       "                   NB_DONATEURS  NB_CHURN  TAUX_CHURN\n",
       "DATE_DE_RECEPTION                                    \n",
       "2014-01-10                 6298        99    0.015719\n",
       "2014-02-10                 6358        60    0.009437\n",
       "2014-03-10                 6376        87    0.013645\n",
       "2014-04-10                 6324        59    0.009330\n",
       "2014-05-10                 6282        56    0.008914"
      ]
     },
     "execution_count": 9,
     "metadata": {},
     "output_type": "execute_result"
    }
   ],
   "source": [
    "# Calcul du nombre de clients qui ont churnés par mois\n",
    "contact_date = dons_reg[['ID_CONTACT', 'DATE_DE_RECEPTION']].groupby('ID_CONTACT').agg('max')\n",
    "contact_date['NB_CHURN'] = 1\n",
    "date_churn = contact_date.groupby('DATE_DE_RECEPTION').agg('count')\n",
    "date_churn = date_churn.loc[date_churn.index != '2018-12-10']\n",
    "\n",
    "# Calcul du nombre de clients par mois\n",
    "date_nb = dons_reg[['DATE_DE_RECEPTION', 'ID_CONTACT']].groupby('DATE_DE_RECEPTION').agg('count')\n",
    "date_nb = date_nb.rename(columns={'ID_CONTACT' : 'NB_DONATEURS'})\n",
    "\n",
    "# Calcul du taux de churn par mois\n",
    "date_nb_churn = date_nb.merge(date_churn, how='inner', left_on='DATE_DE_RECEPTION', right_on='DATE_DE_RECEPTION')\n",
    "date_nb_churn['TAUX_CHURN'] = date_nb_churn.NB_CHURN / date_nb_churn.NB_DONATEURS\n",
    "date_nb_churn.head()"
   ]
  },
  {
   "cell_type": "code",
   "execution_count": 10,
   "metadata": {},
   "outputs": [
    {
     "data": {
      "text/plain": [
       "[Text(0, 0.5, 'taux de churn'), Text(0.5, 0, 'temps')]"
      ]
     },
     "execution_count": 10,
     "metadata": {},
     "output_type": "execute_result"
    },
    {
     "data": {
      "image/png": "[encoded data removed]",
      "text/plain": [
       "<Figure size 1080x432 with 1 Axes>"
      ]
     },
     "metadata": {
      "needs_background": "light"
     },
     "output_type": "display_data"
    }
   ],
   "source": [
    "# évolution du taux de churn par mois\n",
    "ax = date_nb_churn.TAUX_CHURN.plot(kind='bar', figsize=(15, 6),\n",
    "                                   title=\"Evolution du taux de churn par mois\",\n",
    "                                   color=\"coral\")\n",
    "ax.set(xlabel=\"temps\", ylabel=\"taux de churn\")"
   ]
  },
  {
   "cell_type": "markdown",
   "metadata": {},
   "source": [
    "### Analyse de chaque type de clients\n",
    "On analyse séparemment les caractéristiques de chaque type de clients : ceux qui ont churnés, ceux qui sont restés fidèles.\n",
    "##### Séparation des clients"
   ]
  },
  {
   "cell_type": "code",
   "execution_count": 11,
   "metadata": {},
   "outputs": [],
   "source": [
    "# split des contacts selon ceux qui churnent ou non\n",
    "contact_churn = contact_date.loc[contact_date.DATE_DE_RECEPTION != '2018-12-10'].index\n",
    "contact_no_churn = contact_date.loc[contact_date.DATE_DE_RECEPTION == '2018-12-10'].index\n",
    "\n",
    "# split du dataset de dons selon les donateurs qui churnent ou non\n",
    "dons_churn = dons_reg.loc[dons_reg.ID_CONTACT.isin(contact_churn)]\n",
    "dons_no_churn = dons_reg.loc[dons_reg.ID_CONTACT.isin(contact_no_churn)]"
   ]
  },
  {
   "cell_type": "code",
   "execution_count": 12,
   "metadata": {},
   "outputs": [
    {
     "data": {
      "text/html": [
       "<div>\n",
       "<style scoped>\n",
       "    .dataframe tbody tr th:only-of-type {\n",
       "        vertical-align: middle;\n",
       "    }\n",
       "\n",
       "    .dataframe tbody tr th {\n",
       "        vertical-align: top;\n",
       "    }\n",
       "\n",
       "    .dataframe thead th {\n",
       "        text-align: right;\n",
       "    }\n",
       "</style>\n",
       "<table border=\"1\" class=\"dataframe\">\n",
       "  <thead>\n",
       "    <tr style=\"text-align: right;\">\n",
       "      <th></th>\n",
       "      <th>email</th>\n",
       "      <th>sent</th>\n",
       "      <th>ratio_ouvert</th>\n",
       "      <th>ratio_click</th>\n",
       "    </tr>\n",
       "  </thead>\n",
       "  <tbody>\n",
       "    <tr>\n",
       "      <th>0</th>\n",
       "      <td>d345b2515a0b71245d55f02b30b4195c01248abc89d07a...</td>\n",
       "      <td>87</td>\n",
       "      <td>0.965517</td>\n",
       "      <td>0.057471</td>\n",
       "    </tr>\n",
       "    <tr>\n",
       "      <th>1</th>\n",
       "      <td>0ba610308e1f8b21c073666dff3552445671604e4828e3...</td>\n",
       "      <td>32</td>\n",
       "      <td>0.093750</td>\n",
       "      <td>0.000000</td>\n",
       "    </tr>\n",
       "    <tr>\n",
       "      <th>2</th>\n",
       "      <td>b4f0173422313478eb256fb09b78dc6c305c92540b59dd...</td>\n",
       "      <td>9</td>\n",
       "      <td>0.333333</td>\n",
       "      <td>0.000000</td>\n",
       "    </tr>\n",
       "    <tr>\n",
       "      <th>3</th>\n",
       "      <td>35ae1e1ced2315c89951b11b3455b89b054b34d0b28445...</td>\n",
       "      <td>2</td>\n",
       "      <td>1.000000</td>\n",
       "      <td>0.000000</td>\n",
       "    </tr>\n",
       "    <tr>\n",
       "      <th>4</th>\n",
       "      <td>4effed70c78fa5cf91ac436da9e2c209f52ad9be4f869a...</td>\n",
       "      <td>0</td>\n",
       "      <td>0.000000</td>\n",
       "      <td>0.000000</td>\n",
       "    </tr>\n",
       "  </tbody>\n",
       "</table>\n",
       "</div>"
      ],
      "text/plain": [
       "                                               email  sent  ratio_ouvert  \\\n",
       "0  d345b2515a0b71245d55f02b30b4195c01248abc89d07a...    87      0.965517   \n",
       "1  0ba610308e1f8b21c073666dff3552445671604e4828e3...    32      0.093750   \n",
       "2  b4f0173422313478eb256fb09b78dc6c305c92540b59dd...     9      0.333333   \n",
       "3  35ae1e1ced2315c89951b11b3455b89b054b34d0b28445...     2      1.000000   \n",
       "4  4effed70c78fa5cf91ac436da9e2c209f52ad9be4f869a...     0      0.000000   \n",
       "\n",
       "   ratio_click  \n",
       "0     0.057471  \n",
       "1     0.000000  \n",
       "2     0.000000  \n",
       "3     0.000000  \n",
       "4     0.000000  "
      ]
     },
     "execution_count": 12,
     "metadata": {},
     "output_type": "execute_result"
    }
   ],
   "source": [
    "# Analyse des mails envoyés\n",
    "mail = pd.read_excel(os.path.join(PATH_DATA, 'stat_mailjet.xlsx'))\n",
    "mail = mail.drop(['id'], axis=1)\n",
    "\n",
    "# création de ratios\n",
    "mail['ratio_ouvert'] = np.where(mail['sent'] != 0, mail['open'] / mail['sent'], 0)\n",
    "mail['ratio_click'] = np.where(mail['sent'] != 0, mail['click'] / mail['sent'], 0)\n",
    "mail = mail[['email', 'sent', 'ratio_ouvert', 'ratio_click']]\n",
    "mail.head()"
   ]
  },
  {
   "cell_type": "code",
   "execution_count": 13,
   "metadata": {},
   "outputs": [
    {
     "name": "stderr",
     "output_type": "stream",
     "text": [
      "/usr/local/lib/python3.6/dist-packages/IPython/core/interactiveshell.py:3020: DtypeWarning: Columns (47,58,59,62,63) have mixed types. Specify dtype option on import or set low_memory=False.\n",
      "  interactivity=interactivity, compiler=compiler, result=result)\n"
     ]
    },
    {
     "data": {
      "text/html": [
       "<div>\n",
       "<style scoped>\n",
       "    .dataframe tbody tr th:only-of-type {\n",
       "        vertical-align: middle;\n",
       "    }\n",
       "\n",
       "    .dataframe tbody tr th {\n",
       "        vertical-align: top;\n",
       "    }\n",
       "\n",
       "    .dataframe thead th {\n",
       "        text-align: right;\n",
       "    }\n",
       "</style>\n",
       "<table border=\"1\" class=\"dataframe\">\n",
       "  <thead>\n",
       "    <tr style=\"text-align: right;\">\n",
       "      <th></th>\n",
       "      <th>EMAIL_ADRESSE</th>\n",
       "      <th>ID_CONTACT</th>\n",
       "    </tr>\n",
       "  </thead>\n",
       "  <tbody>\n",
       "    <tr>\n",
       "      <th>0</th>\n",
       "      <td>f3ab0b82bafdb3c34a5b7e18d0e8efd7a58f36a6bfa2f3...</td>\n",
       "      <td>713843</td>\n",
       "    </tr>\n",
       "    <tr>\n",
       "      <th>1</th>\n",
       "      <td>efdb54591cc020b3a60b31a6e28eba5249b8926c8e824b...</td>\n",
       "      <td>818435</td>\n",
       "    </tr>\n",
       "    <tr>\n",
       "      <th>2</th>\n",
       "      <td>61746a83c98ad9b4801316f6f4bf2167a17bffc15becc2...</td>\n",
       "      <td>811465</td>\n",
       "    </tr>\n",
       "    <tr>\n",
       "      <th>3</th>\n",
       "      <td>1bee142df5e8361664a4c69c984eb309f673f0822622f6...</td>\n",
       "      <td>818439</td>\n",
       "    </tr>\n",
       "    <tr>\n",
       "      <th>4</th>\n",
       "      <td>47305162d4482f2c167cab9fcb9f242bc31d8f7452e94d...</td>\n",
       "      <td>818443</td>\n",
       "    </tr>\n",
       "  </tbody>\n",
       "</table>\n",
       "</div>"
      ],
      "text/plain": [
       "                                       EMAIL_ADRESSE  ID_CONTACT\n",
       "0  f3ab0b82bafdb3c34a5b7e18d0e8efd7a58f36a6bfa2f3...      713843\n",
       "1  efdb54591cc020b3a60b31a6e28eba5249b8926c8e824b...      818435\n",
       "2  61746a83c98ad9b4801316f6f4bf2167a17bffc15becc2...      811465\n",
       "3  1bee142df5e8361664a4c69c984eb309f673f0822622f6...      818439\n",
       "4  47305162d4482f2c167cab9fcb9f242bc31d8f7452e94d...      818443"
      ]
     },
     "execution_count": 13,
     "metadata": {},
     "output_type": "execute_result"
    }
   ],
   "source": [
    "# Lecture des contacts\n",
    "dons_contacts = pd.read_csv(os.path.join(PATH_DATA,'dons_contact_cleaned.csv'))\n",
    "dons_contacts = dons_contacts[['EMAIL_ADRESSE', 'ID_CONTACT']]\n",
    "dons_contacts.head()"
   ]
  },
  {
   "cell_type": "code",
   "execution_count": 14,
   "metadata": {},
   "outputs": [
    {
     "data": {
      "text/html": [
       "<div>\n",
       "<style scoped>\n",
       "    .dataframe tbody tr th:only-of-type {\n",
       "        vertical-align: middle;\n",
       "    }\n",
       "\n",
       "    .dataframe tbody tr th {\n",
       "        vertical-align: top;\n",
       "    }\n",
       "\n",
       "    .dataframe thead th {\n",
       "        text-align: right;\n",
       "    }\n",
       "</style>\n",
       "<table border=\"1\" class=\"dataframe\">\n",
       "  <thead>\n",
       "    <tr style=\"text-align: right;\">\n",
       "      <th></th>\n",
       "      <th>email</th>\n",
       "      <th>sent</th>\n",
       "      <th>ratio_ouvert</th>\n",
       "      <th>ratio_click</th>\n",
       "      <th>ID_CONTACT</th>\n",
       "    </tr>\n",
       "  </thead>\n",
       "  <tbody>\n",
       "    <tr>\n",
       "      <th>383</th>\n",
       "      <td>c5a2b11ea44ac02e388365cf7a7e9e5347c44aeb22a207...</td>\n",
       "      <td>16</td>\n",
       "      <td>0.312500</td>\n",
       "      <td>0.000000</td>\n",
       "      <td>101848</td>\n",
       "    </tr>\n",
       "    <tr>\n",
       "      <th>570</th>\n",
       "      <td>cc04893f0efee8108f84cb7285286314b766219d5b50ff...</td>\n",
       "      <td>104</td>\n",
       "      <td>0.250000</td>\n",
       "      <td>0.096154</td>\n",
       "      <td>1237</td>\n",
       "    </tr>\n",
       "    <tr>\n",
       "      <th>629</th>\n",
       "      <td>4a35fc9cefc11fa951e34ecd646892d20c3d9fb88959d7...</td>\n",
       "      <td>115</td>\n",
       "      <td>0.426087</td>\n",
       "      <td>0.121739</td>\n",
       "      <td>779021</td>\n",
       "    </tr>\n",
       "    <tr>\n",
       "      <th>1769</th>\n",
       "      <td>c22e7bd67f2954a8d2185c098701d9165dea235405dc43...</td>\n",
       "      <td>62</td>\n",
       "      <td>0.016129</td>\n",
       "      <td>0.000000</td>\n",
       "      <td>815545</td>\n",
       "    </tr>\n",
       "    <tr>\n",
       "      <th>1825</th>\n",
       "      <td>a72ea062bda5d08c27677c0459fd210eab1c74743cf205...</td>\n",
       "      <td>41</td>\n",
       "      <td>0.073171</td>\n",
       "      <td>0.024390</td>\n",
       "      <td>847913</td>\n",
       "    </tr>\n",
       "  </tbody>\n",
       "</table>\n",
       "</div>"
      ],
      "text/plain": [
       "                                                  email  sent  ratio_ouvert  \\\n",
       "383   c5a2b11ea44ac02e388365cf7a7e9e5347c44aeb22a207...    16      0.312500   \n",
       "570   cc04893f0efee8108f84cb7285286314b766219d5b50ff...   104      0.250000   \n",
       "629   4a35fc9cefc11fa951e34ecd646892d20c3d9fb88959d7...   115      0.426087   \n",
       "1769  c22e7bd67f2954a8d2185c098701d9165dea235405dc43...    62      0.016129   \n",
       "1825  a72ea062bda5d08c27677c0459fd210eab1c74743cf205...    41      0.073171   \n",
       "\n",
       "      ratio_click  ID_CONTACT  \n",
       "383      0.000000      101848  \n",
       "570      0.096154        1237  \n",
       "629      0.121739      779021  \n",
       "1769     0.000000      815545  \n",
       "1825     0.024390      847913  "
      ]
     },
     "execution_count": 14,
     "metadata": {},
     "output_type": "execute_result"
    }
   ],
   "source": [
    "# jointures mail / contacts\n",
    "mail_cont = mail.merge(dons_contacts, how='inner', left_on='email', right_on='EMAIL_ADRESSE')\n",
    "mail_cont = mail_cont.drop(['EMAIL_ADRESSE'], axis=1)\n",
    "\n",
    "mail_churn = mail_cont.loc[mail_cont.ID_CONTACT.isin(contact_churn)]\n",
    "mail_no_churn = mail_cont.loc[mail_cont.ID_CONTACT.isin(contact_no_churn)]\n",
    "\n",
    "mails_tot = pd.concat([mail_churn, mail_no_churn])\n",
    "mails_tot = mails_tot.drop_duplicates()\n",
    "mails_tot.head()"
   ]
  },
  {
   "cell_type": "markdown",
   "metadata": {},
   "source": [
    "##### Analyses"
   ]
  },
  {
   "cell_type": "code",
   "execution_count": 15,
   "metadata": {},
   "outputs": [
    {
     "name": "stdout",
     "output_type": "stream",
     "text": [
      "Il y a 10607 clients qui ont churnés.\n",
      "Les churneurs font en moyenne 14.1 dons.\n",
      "Les churneurs donnent en moyenne 10.67€ par dons\n",
      "Cela génère donc un revenu moyen de 150.38€ par churneurs.\n",
      "L'ONG envoie en moyenne 61.7 mails à ce type de clients.\n",
      "Les churneurs ouvrent en moyenne 18.43% leurs mails\n",
      "Les churneurs cliquent en moyenne 1.61% sur les liens au sein de leurs mails.\n"
     ]
    }
   ],
   "source": [
    "# Analyse des clients qui churnent\n",
    "nb_churn = dons_churn.ID_CONTACT.nunique()\n",
    "nb_don_churn_mean = dons_churn.ID_CONTACT.value_counts().values.mean()\n",
    "mean_montant_churn = dons_churn[['MONTANT_MOUVEMENT', 'MOUVEMENT_ID']].groupby('MOUVEMENT_ID').agg('sum').MONTANT_MOUVEMENT.mean()\n",
    "nb_mail_churn = mail_churn.sent.mean()\n",
    "ratio_ouvert_churn = mail_churn.ratio_ouvert.mean()\n",
    "ratio_click_churn = mail_churn.ratio_click.mean()\n",
    "\n",
    "print(\"Il y a {} clients qui ont churnés.\".format(nb_churn))\n",
    "print(\"Les churneurs font en moyenne {} dons.\".format(round(nb_don_churn_mean, 1)))\n",
    "print(\"Les churneurs donnent en moyenne {}€ par dons\".format(round(mean_montant_churn, 2)))\n",
    "print(\"Cela génère donc un revenu moyen de {}€ par churneurs.\".format(round(nb_don_churn_mean * mean_montant_churn, 2)))\n",
    "print(\"L'ONG envoie en moyenne {} mails à ce type de clients.\".format(round(nb_mail_churn, 1)))\n",
    "print(\"Les churneurs ouvrent en moyenne {}% leurs mails\".format(round(ratio_ouvert_churn * 100, 2)))\n",
    "print(\"Les churneurs cliquent en moyenne {}% sur les liens au sein de leurs mails.\".format(round(ratio_click_churn * 100, 2)))"
   ]
  },
  {
   "cell_type": "code",
   "execution_count": 16,
   "metadata": {},
   "outputs": [
    {
     "name": "stdout",
     "output_type": "stream",
     "text": [
      "Il y a 11034 clients fidèles.\n",
      "Les clients fidèles font en moyenne 33.7 dons.\n",
      "Les clients fidèles donnent en moyenne 11.39€ par dons\n",
      "Cela génère donc un revenu moyen de 383.76€ par clients fidèles.€\n",
      "L'ONG envoie en moyenne 61.8 mails à ce type de clients.\n",
      "Les clients fidèles ouvrent en moyenne 23.67% leurs mails\n",
      "Les clients fidèles cliquent en moyenne 2.19% sur les liens au sein de leurs mails\n"
     ]
    }
   ],
   "source": [
    "# Analyse des clients fidèles\n",
    "nb_no_churn = dons_no_churn.ID_CONTACT.nunique()\n",
    "nb_don_no_churn_mean = dons_no_churn.ID_CONTACT.value_counts().values.mean()\n",
    "mean_montant_no_churn = dons_no_churn[['MONTANT_MOUVEMENT', 'MOUVEMENT_ID']].groupby('MOUVEMENT_ID').agg('sum').MONTANT_MOUVEMENT.mean()\n",
    "nb_mail_no_churn = mail_no_churn.sent.mean()\n",
    "ratio_ouvert_no_churn = mail_no_churn.ratio_ouvert.mean()\n",
    "ratio_click_no_churn = mail_no_churn.ratio_click.mean()\n",
    "\n",
    "print(\"Il y a {} clients fidèles.\".format(nb_no_churn))\n",
    "print(\"Les clients fidèles font en moyenne {} dons.\".format(round(nb_don_no_churn_mean, 1)))\n",
    "print(\"Les clients fidèles donnent en moyenne {}€ par dons\".format(round(mean_montant_no_churn, 2)))\n",
    "print(\"Cela génère donc un revenu moyen de {}€ par clients fidèles.€\".format(round(nb_don_no_churn_mean * mean_montant_no_churn, 2)))\n",
    "print(\"L'ONG envoie en moyenne {} mails à ce type de clients.\".format(round(nb_mail_no_churn, 1)))\n",
    "print(\"Les clients fidèles ouvrent en moyenne {}% leurs mails\".format(round(ratio_ouvert_no_churn * 100, 2)))\n",
    "print(\"Les clients fidèles cliquent en moyenne {}% sur les liens au sein de leurs mails\".format(round(ratio_click_no_churn * 100, 2)))"
   ]
  },
  {
   "cell_type": "markdown",
   "metadata": {},
   "source": [
    "On remarque donc que le nombre de clients qui churnent est en hausse ces derniers mois.\n",
    "Une analyse rapide permet de trouver que les churneurs réalisent en moyenne moins de dons et sont moins sensibles au mails envoyés par l'ONG.  \n",
    "Il paraît alors pertinent de s'intéresser à l'identification des clients qui partent afin d'essayer de les fidéliser."
   ]
  },
  {
   "cell_type": "code",
   "execution_count": null,
   "metadata": {},
   "outputs": [],
   "source": []
  }
 ],
 "metadata": {
  "kernelspec": {
   "display_name": "Python 3",
   "language": "python",
   "name": "python3"
  },
  "language_info": {
   "codemirror_mode": {
    "name": "ipython",
    "version": 3
   },
   "file_extension": ".py",
   "mimetype": "text/x-python",
   "name": "python",
   "nbconvert_exporter": "python",
   "pygments_lexer": "ipython3",
   "version": "3.6.7"
  }
 },
 "nbformat": 4,
 "nbformat_minor": 2
}
